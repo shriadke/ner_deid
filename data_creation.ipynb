{
 "cells": [
  {
   "cell_type": "code",
   "execution_count": 1,
   "metadata": {},
   "outputs": [],
   "source": [
    "from presidio_evaluator.data_generator import PresidioDataGenerator\n",
    "import pandas as pd\n",
    "from presidio_evaluator.data_generator.faker_extensions import (\n",
    "    FakerSpansResult,\n",
    "    RecordsFaker,\n",
    "    NationalityProvider,\n",
    "    OrganizationProvider,\n",
    "    AgeProvider,\n",
    "    AddressProviderNew,\n",
    "    PhoneNumberProviderNew,\n",
    ")\n",
    "import pprint\n",
    "import numpy as np\n",
    "from collections import Counter\n",
    "from presidio_evaluator import InputSample\n",
    "from typing import Dict, List\n",
    "import tqdm\n",
    "from presidio_evaluator.validation import split_dataset, save_to_json\n",
    "from datetime import date\n"
   ]
  },
  {
   "cell_type": "code",
   "execution_count": 11,
   "metadata": {},
   "outputs": [],
   "source": [
    "templates_file_path = './data/train_templates.txt'\n",
    "sentence_templates = PresidioDataGenerator.read_template_file(templates_file_path)"
   ]
  },
  {
   "cell_type": "code",
   "execution_count": null,
   "metadata": {},
   "outputs": [],
   "source": [
    "fake_name_generator_file = 'data/FakeNameGenerator.com_3000.csv'\n",
    "nationalities = ['French', 'American', 'Italian',\n",
    "        'Norwegian', 'Spanish', 'Japanese', 'Swedish',\n",
    "       'Scottish', 'Hungarian', 'Dutch', 'English', 'Brazil',\n",
    "        'Russian',  'Danish', \n",
    "       'German', 'Australian']"
   ]
  },
  {
   "cell_type": "code",
   "execution_count": 3,
   "metadata": {},
   "outputs": [],
   "source": [
    "fake_name_generator_df = pd.read_csv(fake_name_generator_file)\n",
    "fake_name_generator_df = fake_name_generator_df[fake_name_generator_df[\"NameSet\"].isin(nationalities)]"
   ]
  },
  {
   "cell_type": "code",
   "execution_count": 4,
   "metadata": {},
   "outputs": [
    {
     "data": {
      "text/html": [
       "<div>\n",
       "<style scoped>\n",
       "    .dataframe tbody tr th:only-of-type {\n",
       "        vertical-align: middle;\n",
       "    }\n",
       "\n",
       "    .dataframe tbody tr th {\n",
       "        vertical-align: top;\n",
       "    }\n",
       "\n",
       "    .dataframe thead th {\n",
       "        text-align: right;\n",
       "    }\n",
       "</style>\n",
       "<table border=\"1\" class=\"dataframe\">\n",
       "  <thead>\n",
       "    <tr style=\"text-align: right;\">\n",
       "      <th></th>\n",
       "      <th>Number</th>\n",
       "      <th>Gender</th>\n",
       "      <th>NameSet</th>\n",
       "      <th>Title</th>\n",
       "      <th>GivenName</th>\n",
       "      <th>MiddleInitial</th>\n",
       "      <th>Surname</th>\n",
       "      <th>StreetAddress</th>\n",
       "      <th>City</th>\n",
       "      <th>State</th>\n",
       "      <th>...</th>\n",
       "      <th>Birthday</th>\n",
       "      <th>Age</th>\n",
       "      <th>CCType</th>\n",
       "      <th>CCNumber</th>\n",
       "      <th>CVV2</th>\n",
       "      <th>CCExpires</th>\n",
       "      <th>NationalID</th>\n",
       "      <th>Occupation</th>\n",
       "      <th>Company</th>\n",
       "      <th>Domain</th>\n",
       "    </tr>\n",
       "  </thead>\n",
       "  <tbody>\n",
       "    <tr>\n",
       "      <th>1</th>\n",
       "      <td>2</td>\n",
       "      <td>female</td>\n",
       "      <td>French</td>\n",
       "      <td>Ms.</td>\n",
       "      <td>Patricia</td>\n",
       "      <td>G</td>\n",
       "      <td>Desrosiers</td>\n",
       "      <td>Avenida Noruega 42</td>\n",
       "      <td>Vila Real</td>\n",
       "      <td>VR</td>\n",
       "      <td>...</td>\n",
       "      <td>2/28/1956</td>\n",
       "      <td>63</td>\n",
       "      <td>MasterCard</td>\n",
       "      <td>5.317250e+15</td>\n",
       "      <td>874</td>\n",
       "      <td>Mar-22</td>\n",
       "      <td>NaN</td>\n",
       "      <td>Vascular technologist</td>\n",
       "      <td>Formula Gray</td>\n",
       "      <td>LostMillions.com.pt</td>\n",
       "    </tr>\n",
       "    <tr>\n",
       "      <th>2</th>\n",
       "      <td>3</td>\n",
       "      <td>female</td>\n",
       "      <td>American</td>\n",
       "      <td>Ms.</td>\n",
       "      <td>Debra</td>\n",
       "      <td>O</td>\n",
       "      <td>Neal</td>\n",
       "      <td>1659 Hoog St</td>\n",
       "      <td>Brakpan</td>\n",
       "      <td>GA</td>\n",
       "      <td>...</td>\n",
       "      <td>6/11/1957</td>\n",
       "      <td>62</td>\n",
       "      <td>Visa</td>\n",
       "      <td>4.916430e+15</td>\n",
       "      <td>315</td>\n",
       "      <td>May-20</td>\n",
       "      <td>5.70611E+12</td>\n",
       "      <td>Information architect librarian</td>\n",
       "      <td>Dahlkemper's</td>\n",
       "      <td>MediumTube.co.za</td>\n",
       "    </tr>\n",
       "    <tr>\n",
       "      <th>3</th>\n",
       "      <td>4</td>\n",
       "      <td>male</td>\n",
       "      <td>French</td>\n",
       "      <td>Mr.</td>\n",
       "      <td>Peverell</td>\n",
       "      <td>C</td>\n",
       "      <td>Racine</td>\n",
       "      <td>183 Epimenidou Street</td>\n",
       "      <td>Limassol</td>\n",
       "      <td>LI</td>\n",
       "      <td>...</td>\n",
       "      <td>6/14/1962</td>\n",
       "      <td>57</td>\n",
       "      <td>Visa</td>\n",
       "      <td>4.485420e+15</td>\n",
       "      <td>653</td>\n",
       "      <td>May-23</td>\n",
       "      <td>NaN</td>\n",
       "      <td>Desk clerk</td>\n",
       "      <td>Quickbiz</td>\n",
       "      <td>ImproveLook.com.cy</td>\n",
       "    </tr>\n",
       "    <tr>\n",
       "      <th>5</th>\n",
       "      <td>6</td>\n",
       "      <td>male</td>\n",
       "      <td>Italian</td>\n",
       "      <td>Mr.</td>\n",
       "      <td>Domenico</td>\n",
       "      <td>D</td>\n",
       "      <td>Pisano</td>\n",
       "      <td>Via Pisanelli 104</td>\n",
       "      <td>Traversara</td>\n",
       "      <td>RA</td>\n",
       "      <td>...</td>\n",
       "      <td>6/1/1979</td>\n",
       "      <td>40</td>\n",
       "      <td>Visa</td>\n",
       "      <td>4.532870e+15</td>\n",
       "      <td>237</td>\n",
       "      <td>Jun-23</td>\n",
       "      <td>WK48391724</td>\n",
       "      <td>Professional scout</td>\n",
       "      <td>Littler's</td>\n",
       "      <td>HardDriveBlog.it</td>\n",
       "    </tr>\n",
       "    <tr>\n",
       "      <th>7</th>\n",
       "      <td>8</td>\n",
       "      <td>female</td>\n",
       "      <td>French</td>\n",
       "      <td>Mrs.</td>\n",
       "      <td>Ormazd</td>\n",
       "      <td>M</td>\n",
       "      <td>Jomphe</td>\n",
       "      <td>Mattenstrasse 108</td>\n",
       "      <td>Sissach</td>\n",
       "      <td>NaN</td>\n",
       "      <td>...</td>\n",
       "      <td>1/14/1999</td>\n",
       "      <td>20</td>\n",
       "      <td>Visa</td>\n",
       "      <td>4.556600e+15</td>\n",
       "      <td>691</td>\n",
       "      <td>Jun-24</td>\n",
       "      <td>NaN</td>\n",
       "      <td>Clinical psychologist</td>\n",
       "      <td>Linens 'n Things</td>\n",
       "      <td>CyclingMonthly.ch</td>\n",
       "    </tr>\n",
       "    <tr>\n",
       "      <th>...</th>\n",
       "      <td>...</td>\n",
       "      <td>...</td>\n",
       "      <td>...</td>\n",
       "      <td>...</td>\n",
       "      <td>...</td>\n",
       "      <td>...</td>\n",
       "      <td>...</td>\n",
       "      <td>...</td>\n",
       "      <td>...</td>\n",
       "      <td>...</td>\n",
       "      <td>...</td>\n",
       "      <td>...</td>\n",
       "      <td>...</td>\n",
       "      <td>...</td>\n",
       "      <td>...</td>\n",
       "      <td>...</td>\n",
       "      <td>...</td>\n",
       "      <td>...</td>\n",
       "      <td>...</td>\n",
       "      <td>...</td>\n",
       "      <td>...</td>\n",
       "    </tr>\n",
       "    <tr>\n",
       "      <th>2993</th>\n",
       "      <td>2994</td>\n",
       "      <td>male</td>\n",
       "      <td>Scottish</td>\n",
       "      <td>Mr.</td>\n",
       "      <td>Codey</td>\n",
       "      <td>M</td>\n",
       "      <td>Ross</td>\n",
       "      <td>Gardabraut 63</td>\n",
       "      <td>Garður</td>\n",
       "      <td>NaN</td>\n",
       "      <td>...</td>\n",
       "      <td>3/15/1966</td>\n",
       "      <td>53</td>\n",
       "      <td>Visa</td>\n",
       "      <td>4.929240e+15</td>\n",
       "      <td>563</td>\n",
       "      <td>Sep-21</td>\n",
       "      <td>NaN</td>\n",
       "      <td>Animator</td>\n",
       "      <td>Henry's Hamburgers</td>\n",
       "      <td>PoliticalKing.is</td>\n",
       "    </tr>\n",
       "    <tr>\n",
       "      <th>2994</th>\n",
       "      <td>2995</td>\n",
       "      <td>male</td>\n",
       "      <td>Italian</td>\n",
       "      <td>Mr.</td>\n",
       "      <td>Leone</td>\n",
       "      <td>C</td>\n",
       "      <td>Mazzi</td>\n",
       "      <td>Via Cavour 17</td>\n",
       "      <td>Filorsi</td>\n",
       "      <td>CE</td>\n",
       "      <td>...</td>\n",
       "      <td>10/23/1978</td>\n",
       "      <td>41</td>\n",
       "      <td>Visa</td>\n",
       "      <td>4.556830e+15</td>\n",
       "      <td>980</td>\n",
       "      <td>Dec-22</td>\n",
       "      <td>MA79272200</td>\n",
       "      <td>Nurse</td>\n",
       "      <td>ABCO Foods</td>\n",
       "      <td>VoipObserver.it</td>\n",
       "    </tr>\n",
       "    <tr>\n",
       "      <th>2997</th>\n",
       "      <td>2998</td>\n",
       "      <td>female</td>\n",
       "      <td>American</td>\n",
       "      <td>Mrs.</td>\n",
       "      <td>Margaret</td>\n",
       "      <td>S</td>\n",
       "      <td>Stouffer</td>\n",
       "      <td>26 rue Ernest Renan</td>\n",
       "      <td>CHERBOURG</td>\n",
       "      <td>BN</td>\n",
       "      <td>...</td>\n",
       "      <td>3/18/1950</td>\n",
       "      <td>69</td>\n",
       "      <td>MasterCard</td>\n",
       "      <td>5.580810e+15</td>\n",
       "      <td>621</td>\n",
       "      <td>Jul-23</td>\n",
       "      <td>2500301468313 93</td>\n",
       "      <td>Food cooking machine operator</td>\n",
       "      <td>Kash n' Karry</td>\n",
       "      <td>DualBags.fr</td>\n",
       "    </tr>\n",
       "    <tr>\n",
       "      <th>2998</th>\n",
       "      <td>2999</td>\n",
       "      <td>male</td>\n",
       "      <td>Brazil</td>\n",
       "      <td>Mr.</td>\n",
       "      <td>Luís</td>\n",
       "      <td>C</td>\n",
       "      <td>Dias</td>\n",
       "      <td>4022 Oakridge Lane</td>\n",
       "      <td>Dallas</td>\n",
       "      <td>TX</td>\n",
       "      <td>...</td>\n",
       "      <td>3/18/1988</td>\n",
       "      <td>31</td>\n",
       "      <td>MasterCard</td>\n",
       "      <td>5.417480e+15</td>\n",
       "      <td>129</td>\n",
       "      <td>Sep-24</td>\n",
       "      <td>638-78-3230</td>\n",
       "      <td>Accounts receivable clerk</td>\n",
       "      <td>Greenwich IGA</td>\n",
       "      <td>wwwcrv.com</td>\n",
       "    </tr>\n",
       "    <tr>\n",
       "      <th>2999</th>\n",
       "      <td>3000</td>\n",
       "      <td>male</td>\n",
       "      <td>Swedish</td>\n",
       "      <td>Mr.</td>\n",
       "      <td>Tintin</td>\n",
       "      <td>T</td>\n",
       "      <td>Forsberg</td>\n",
       "      <td>2437 Main St</td>\n",
       "      <td>Mill Village</td>\n",
       "      <td>NS</td>\n",
       "      <td>...</td>\n",
       "      <td>11/13/1960</td>\n",
       "      <td>59</td>\n",
       "      <td>Visa</td>\n",
       "      <td>4.539450e+15</td>\n",
       "      <td>182</td>\n",
       "      <td>Jun-23</td>\n",
       "      <td>598 679 744</td>\n",
       "      <td>Private investigator</td>\n",
       "      <td>Erlebacher's</td>\n",
       "      <td>PopPod.ca</td>\n",
       "    </tr>\n",
       "  </tbody>\n",
       "</table>\n",
       "<p>2032 rows × 30 columns</p>\n",
       "</div>"
      ],
      "text/plain": [
       "      Number  Gender   NameSet Title GivenName MiddleInitial     Surname   \n",
       "1          2  female    French   Ms.  Patricia             G  Desrosiers  \\\n",
       "2          3  female  American   Ms.     Debra             O        Neal   \n",
       "3          4    male    French   Mr.  Peverell             C      Racine   \n",
       "5          6    male   Italian   Mr.  Domenico             D      Pisano   \n",
       "7          8  female    French  Mrs.    Ormazd             M      Jomphe   \n",
       "...      ...     ...       ...   ...       ...           ...         ...   \n",
       "2993    2994    male  Scottish   Mr.     Codey             M        Ross   \n",
       "2994    2995    male   Italian   Mr.     Leone             C       Mazzi   \n",
       "2997    2998  female  American  Mrs.  Margaret             S    Stouffer   \n",
       "2998    2999    male    Brazil   Mr.      Luís             C        Dias   \n",
       "2999    3000    male   Swedish   Mr.    Tintin             T    Forsberg   \n",
       "\n",
       "              StreetAddress          City State  ...    Birthday Age   \n",
       "1        Avenida Noruega 42     Vila Real    VR  ...   2/28/1956  63  \\\n",
       "2              1659 Hoog St       Brakpan    GA  ...   6/11/1957  62   \n",
       "3     183 Epimenidou Street      Limassol    LI  ...   6/14/1962  57   \n",
       "5         Via Pisanelli 104    Traversara    RA  ...    6/1/1979  40   \n",
       "7         Mattenstrasse 108       Sissach   NaN  ...   1/14/1999  20   \n",
       "...                     ...           ...   ...  ...         ...  ..   \n",
       "2993          Gardabraut 63        Garður   NaN  ...   3/15/1966  53   \n",
       "2994          Via Cavour 17       Filorsi    CE  ...  10/23/1978  41   \n",
       "2997    26 rue Ernest Renan     CHERBOURG    BN  ...   3/18/1950  69   \n",
       "2998     4022 Oakridge Lane        Dallas    TX  ...   3/18/1988  31   \n",
       "2999           2437 Main St  Mill Village    NS  ...  11/13/1960  59   \n",
       "\n",
       "          CCType      CCNumber CVV2 CCExpires        NationalID   \n",
       "1     MasterCard  5.317250e+15  874    Mar-22               NaN  \\\n",
       "2           Visa  4.916430e+15  315    May-20       5.70611E+12   \n",
       "3           Visa  4.485420e+15  653    May-23               NaN   \n",
       "5           Visa  4.532870e+15  237    Jun-23        WK48391724   \n",
       "7           Visa  4.556600e+15  691    Jun-24               NaN   \n",
       "...          ...           ...  ...       ...               ...   \n",
       "2993        Visa  4.929240e+15  563    Sep-21               NaN   \n",
       "2994        Visa  4.556830e+15  980    Dec-22        MA79272200   \n",
       "2997  MasterCard  5.580810e+15  621    Jul-23  2500301468313 93   \n",
       "2998  MasterCard  5.417480e+15  129    Sep-24       638-78-3230   \n",
       "2999        Visa  4.539450e+15  182    Jun-23       598 679 744   \n",
       "\n",
       "                           Occupation             Company               Domain  \n",
       "1               Vascular technologist        Formula Gray  LostMillions.com.pt  \n",
       "2     Information architect librarian        Dahlkemper's     MediumTube.co.za  \n",
       "3                          Desk clerk            Quickbiz   ImproveLook.com.cy  \n",
       "5                  Professional scout           Littler's     HardDriveBlog.it  \n",
       "7               Clinical psychologist    Linens 'n Things    CyclingMonthly.ch  \n",
       "...                               ...                 ...                  ...  \n",
       "2993                         Animator  Henry's Hamburgers     PoliticalKing.is  \n",
       "2994                            Nurse          ABCO Foods      VoipObserver.it  \n",
       "2997    Food cooking machine operator       Kash n' Karry          DualBags.fr  \n",
       "2998        Accounts receivable clerk       Greenwich IGA           wwwcrv.com  \n",
       "2999             Private investigator        Erlebacher's            PopPod.ca  \n",
       "\n",
       "[2032 rows x 30 columns]"
      ]
     },
     "execution_count": 4,
     "metadata": {},
     "output_type": "execute_result"
    }
   ],
   "source": [
    "fake_name_generator_df"
   ]
  },
  {
   "cell_type": "code",
   "execution_count": 5,
   "metadata": {},
   "outputs": [],
   "source": [
    "data_generator = PresidioDataGenerator()\n",
    "fake_name_generator_df = PresidioDataGenerator.update_fake_name_generator_df(fake_name_generator_df)"
   ]
  },
  {
   "cell_type": "code",
   "execution_count": 6,
   "metadata": {},
   "outputs": [],
   "source": [
    "fake = RecordsFaker(records=fake_name_generator_df)\n",
    "fake.add_provider(NationalityProvider)\n",
    "fake.add_provider(OrganizationProvider)\n",
    "fake.add_provider(AgeProvider)\n",
    "fake.add_provider(AddressProviderNew)\n",
    "fake.add_provider(PhoneNumberProviderNew)\n",
    "\n"
   ]
  },
  {
   "cell_type": "code",
   "execution_count": 7,
   "metadata": {},
   "outputs": [],
   "source": [
    "data_generator = PresidioDataGenerator(\n",
    "    custom_faker=fake, lower_case_ratio=0.5\n",
    ")"
   ]
  },
  {
   "cell_type": "code",
   "execution_count": 8,
   "metadata": {},
   "outputs": [],
   "source": [
    "data_generator.add_provider_alias(\n",
    "    provider_name=\"credit_card_number\", new_name=\"credit_card\"\n",
    ")"
   ]
  },
  {
   "cell_type": "code",
   "execution_count": 12,
   "metadata": {},
   "outputs": [
    {
     "name": "stdout",
     "output_type": "stream",
     "text": [
      "Preparing sample sentences for ingestion\n"
     ]
    },
    {
     "name": "stderr",
     "output_type": "stream",
     "text": [
      "Sampling: 100%|██████████| 300/300 [00:00<00:00, 9653.99it/s]"
     ]
    },
    {
     "name": "stdout",
     "output_type": "stream",
     "text": [
      "{\"fake\": \"lucinda, can i please speak to your boss?\", \"spans\": [{\"value\": \"lucinda\", \"start\": 0, \"end\": 7, \"type\": \"first_name\"}], \"template\": \"{{first_name}}, can I please speak to your boss?\", \"template_id\": 5}\n"
     ]
    },
    {
     "name": "stderr",
     "output_type": "stream",
     "text": [
      "\n"
     ]
    }
   ],
   "source": [
    "fake_records = data_generator.generate_fake_data(\n",
    "    templates=sentence_templates, n_samples=300\n",
    ")\n",
    "\n",
    "fake_records = list(fake_records)\n",
    "pprint.pprint(fake_records[0])"
   ]
  },
  {
   "cell_type": "code",
   "execution_count": 13,
   "metadata": {},
   "outputs": [
    {
     "name": "stdout",
     "output_type": "stream",
     "text": [
      "Total: 300\n",
      "Avg # of records per template: 7.894736842105263\n",
      "Median # of records per template: 8.0\n",
      "Std: 2.899995223990718\n"
     ]
    }
   ],
   "source": [
    "count_per_template_id = Counter([sample.template_id for sample in fake_records])\n",
    "\n",
    "print(f\"Total: {sum(count_per_template_id.values())}\")\n",
    "print(f\"Avg # of records per template: {np.mean(list(count_per_template_id.values()))}\")\n",
    "print(f\"Median # of records per template: {np.median(list(count_per_template_id.values()))}\")\n",
    "print(f\"Std: {np.std(list(count_per_template_id.values()))}\")"
   ]
  },
  {
   "cell_type": "code",
   "execution_count": 14,
   "metadata": {},
   "outputs": [
    {
     "data": {
      "text/plain": [
       "Counter({'first_name': 13,\n",
       "         'address': 72,\n",
       "         'last_name': 29,\n",
       "         'date_of_birth': 28,\n",
       "         'name': 46,\n",
       "         'prefix_male': 19,\n",
       "         'country': 30,\n",
       "         'credit_card': 43,\n",
       "         'day_of_week': 12,\n",
       "         'city': 2,\n",
       "         'prefix': 2,\n",
       "         'email': 29,\n",
       "         'company': 35,\n",
       "         'phone_number': 34,\n",
       "         'date_time': 11,\n",
       "         'name_male': 10,\n",
       "         'last_name_female': 8,\n",
       "         'prefix_female': 8})"
      ]
     },
     "execution_count": 14,
     "metadata": {},
     "output_type": "execute_result"
    }
   ],
   "source": [
    "count_per_entity = Counter()\n",
    "for record in fake_records:\n",
    "    count_per_entity.update(Counter([span.type for span in record.spans]))\n",
    "\n",
    "count_per_entity"
   ]
  },
  {
   "cell_type": "code",
   "execution_count": 15,
   "metadata": {},
   "outputs": [],
   "source": [
    "translator = {\n",
    "    \"iban\": \"IBAN_CODE\",\n",
    "    \"company\": \"ORGANIZATION\",\n",
    "    \"organization\": \"ORGANIZATION\",\n",
    "    \"name_female\": \"PERSON\",\n",
    "    \"address\": \"STREET_ADDRESS\",\n",
    "    \"country\": \"GPE\",\n",
    "    \"state\": \"GPE\",\n",
    "    \"credit_card\": \"CREDIT_CARD\",\n",
    "    \"city\": \"GPE\",\n",
    "    \"street_name\": \"STREET_ADDRESS\",\n",
    "    \"building_number\": \"STREET_ADDRESS\",\n",
    "    \"name\": \"PERSON\",\n",
    "    \"last_name\": \"PERSON\",\n",
    "    \"last_name_male\": \"PERSON\",\n",
    "    \"last_name_female\": \"PERSON\",\n",
    "    \"first_name\": \"PERSON\",\n",
    "    \"first_name_male\": \"PERSON\",\n",
    "    \"first_name_female\": \"PERSON\",\n",
    "    \"phone_number\": \"PHONE_NUMBER\",\n",
    "    \"email\": \"EMAIL_ADDRESS\",\n",
    "    \"date_time\": \"DATE_TIME\",\n",
    "    \"date_of_birth\": \"DATE_TIME\",\n",
    "    \"day_of_week\": \"DATE_TIME\",\n",
    "    \"name_male\": \"PERSON\",\n",
    "    \"prefix_male\": \"TITLE\",\n",
    "    \"prefix_female\": \"TITLE\",\n",
    "    \"prefix\": \"TITLE\",\n",
    "    \"nationality\": \"NRP\",\n",
    "    \"first_name_nonbinary\": \"PERSON\",\n",
    "    \"postcode\": \"STREET_ADDRESS\",\n",
    "    \"secondary_address\": \"STREET_ADDRESS\",\n",
    "    \"job\": \"TITLE\",\n",
    "    \"state_abbr\": \"GPE\",\n",
    "    \"age\": \"AGE\",\n",
    "}\n",
    "\n",
    "def update_entity_types(dataset:List[FakerSpansResult], entity_mapping:Dict[str,str]):\n",
    "    \"\"\"Replace entity types using a translator dictionary.\"\"\"\n",
    "\n",
    "    for sample in dataset:\n",
    "        # update entity types on spans\n",
    "        for span in sample.spans:\n",
    "            span.type = entity_mapping[span.type]\n",
    "        # update entity types on the template string\n",
    "        for key, value in entity_mapping.items():\n",
    "            sample.template = sample.template.replace(\"{{\" + key + \"}}\", \"{{\" + value + \"}}\")\n",
    "\n",
    "update_entity_types(fake_records, entity_mapping=translator)"
   ]
  },
  {
   "cell_type": "code",
   "execution_count": 16,
   "metadata": {},
   "outputs": [
    {
     "data": {
      "text/plain": [
       "[('PERSON', 106),\n",
       " ('STREET_ADDRESS', 72),\n",
       " ('DATE_TIME', 51),\n",
       " ('CREDIT_CARD', 43),\n",
       " ('ORGANIZATION', 35),\n",
       " ('PHONE_NUMBER', 34),\n",
       " ('GPE', 32),\n",
       " ('TITLE', 29),\n",
       " ('EMAIL_ADDRESS', 29)]"
      ]
     },
     "execution_count": 16,
     "metadata": {},
     "output_type": "execute_result"
    }
   ],
   "source": [
    "count_per_entity_new = Counter()\n",
    "for record in fake_records:\n",
    "    for span in record.spans:\n",
    "        count_per_entity_new[span.type] += 1\n",
    "\n",
    "count_per_entity_new.most_common()"
   ]
  },
  {
   "cell_type": "code",
   "execution_count": 18,
   "metadata": {},
   "outputs": [
    {
     "name": "stderr",
     "output_type": "stream",
     "text": []
    },
    {
     "name": "stdout",
     "output_type": "stream",
     "text": [
      "loading model en_core_web_sm\n"
     ]
    },
    {
     "name": "stderr",
     "output_type": "stream",
     "text": [
      "100%|██████████| 300/300 [00:02<00:00, 107.89it/s]\n"
     ]
    }
   ],
   "source": [
    "input_samples = [\n",
    "    InputSample.from_faker_spans_result(faker_spans_result=fake_record, scheme=\"BIO\")\n",
    "    for fake_record in tqdm.tqdm(fake_records)\n",
    "]"
   ]
  },
  {
   "cell_type": "code",
   "execution_count": 19,
   "metadata": {},
   "outputs": [],
   "source": [
    "TRAIN_TEST_RATIOS = [0.7,0.3]\n",
    "train,test = split_dataset(input_samples, TRAIN_TEST_RATIOS)"
   ]
  },
  {
   "cell_type": "code",
   "execution_count": 20,
   "metadata": {},
   "outputs": [
    {
     "data": {
      "text/plain": [
       "Full text: I'm originally from France\n",
       "Spans: [Type: GPE, value: France, start: 20, end: 26]\n",
       "Tokens: I'm originally from France\n",
       "Tags: ['O', 'O', 'O', 'O', 'B-GPE']"
      ]
     },
     "execution_count": 20,
     "metadata": {},
     "output_type": "execute_result"
    }
   ],
   "source": [
    "train[0]"
   ]
  },
  {
   "cell_type": "code",
   "execution_count": 21,
   "metadata": {},
   "outputs": [],
   "source": [
    "DATE_DATE = date.today().strftime(\"%b-%d-%Y\")\n",
    "\n",
    "save_to_json(train, \"./data/train_{}.json\".format(DATE_DATE))\n",
    "save_to_json(test, \"./data/val_{}.json\".format(DATE_DATE))"
   ]
  },
  {
   "cell_type": "code",
   "execution_count": 23,
   "metadata": {},
   "outputs": [],
   "source": [
    "train_data = pd.read_json(\"./data/train_Apr-12-2023.json\")\n",
    "val_data = pd.read_json(\"./data/val_Apr-12-2023.json\")"
   ]
  },
  {
   "cell_type": "code",
   "execution_count": 414,
   "metadata": {},
   "outputs": [],
   "source": [
    "# train_data = pd.read_json(\"./data/train__300__final.json\")\n",
    "# val_data = pd.read_json(\"./data/val__300__final.json\")"
   ]
  },
  {
   "cell_type": "code",
   "execution_count": 24,
   "metadata": {},
   "outputs": [],
   "source": [
    "def entity_from_span(data, field=\"entity_type\"):\n",
    "    spans = data.spans\n",
    "    entities = []\n",
    "    for span in spans:\n",
    "        if len(span) > 0:\n",
    "            for s in span:\n",
    "                entities.append(s[field])\n",
    "    return entities"
   ]
  },
  {
   "cell_type": "code",
   "execution_count": 25,
   "metadata": {},
   "outputs": [],
   "source": [
    "train_entity_count = Counter(entity_from_span(train_data, \"entity_value\"))\n",
    "val_entity_count = Counter(entity_from_span(val_data, \"entity_value\"))"
   ]
  },
  {
   "cell_type": "code",
   "execution_count": 26,
   "metadata": {},
   "outputs": [],
   "source": [
    "def test_unique_entity_count(data):\n",
    "    entity_count = Counter(entity_from_span(data, \"entity_value\"))\n",
    "    entities = list(entity_count.keys())\n",
    "    print(sum(entity_count.values()))\n",
    "    print(len(entities))\n",
    "    assert sum(entity_count.values()) == len(entities)\n",
    "    "
   ]
  },
  {
   "cell_type": "code",
   "execution_count": 27,
   "metadata": {},
   "outputs": [],
   "source": [
    "def test_no_duplicate_entity(train, val):\n",
    "    train_entities = entity_from_span(train, \"entity_value\")\n",
    "    val_entities = entity_from_span(val, \"entity_value\")\n",
    "    intersection = set(train_entities) & set(val_entities)\n",
    "    assert len(intersection) == 0, print(intersection)"
   ]
  },
  {
   "cell_type": "code",
   "execution_count": 28,
   "metadata": {},
   "outputs": [],
   "source": [
    "def test_missing_classes(train, val):\n",
    "    train_entities = entity_from_span(train, \"entity_type\")\n",
    "    val_entities = entity_from_span(val, \"entity_type\")\n",
    "    print(set(val_entities))\n",
    "    intersection = set(train_entities) & set(val_entities)\n",
    "    print(intersection)\n",
    "    print(set(train_entities))\n",
    "    assert len(intersection) == len(set(train_entities)), f\"{intersection}\"\n",
    "    "
   ]
  },
  {
   "cell_type": "code",
   "execution_count": 29,
   "metadata": {},
   "outputs": [],
   "source": [
    "def test_unique_templates(train, val):\n",
    "    train_templates = train.template_id.unique()\n",
    "    val_templates = val.template_id.unique()\n",
    "\n",
    "    intersection = set(train_templates) & set(val_templates)\n",
    "\n",
    "    assert len(intersection) == 0, f\"{intersection}\"\n",
    "    \n",
    "    \n",
    "    "
   ]
  },
  {
   "cell_type": "code",
   "execution_count": 31,
   "metadata": {},
   "outputs": [
    {
     "name": "stdout",
     "output_type": "stream",
     "text": [
      "{'Denmark', 'mr.', 'Mr.', 'dr.', 'Dr.'}\n"
     ]
    },
    {
     "ename": "AssertionError",
     "evalue": "None",
     "output_type": "error",
     "traceback": [
      "\u001b[0;31m---------------------------------------------------------------------------\u001b[0m",
      "\u001b[0;31mAssertionError\u001b[0m                            Traceback (most recent call last)",
      "\u001b[0;32m/var/folders/k7/kvt_fn2n5kj_cccj1v8w85fc0000gn/T/ipykernel_53829/2095655140.py\u001b[0m in \u001b[0;36m<cell line: 3>\u001b[0;34m()\u001b[0m\n\u001b[1;32m      1\u001b[0m \u001b[0;31m# test_unique_entity_count(train_data)\u001b[0m\u001b[0;34m\u001b[0m\u001b[0;34m\u001b[0m\u001b[0;34m\u001b[0m\u001b[0m\n\u001b[1;32m      2\u001b[0m \u001b[0;31m# test_unique_entity_count(val_data)\u001b[0m\u001b[0;34m\u001b[0m\u001b[0;34m\u001b[0m\u001b[0;34m\u001b[0m\u001b[0m\n\u001b[0;32m----> 3\u001b[0;31m \u001b[0mtest_no_duplicate_entity\u001b[0m\u001b[0;34m(\u001b[0m\u001b[0mtrain_data\u001b[0m\u001b[0;34m,\u001b[0m \u001b[0mval_data\u001b[0m\u001b[0;34m)\u001b[0m\u001b[0;34m\u001b[0m\u001b[0;34m\u001b[0m\u001b[0m\n\u001b[0m\u001b[1;32m      4\u001b[0m \u001b[0mtest_missing_classes\u001b[0m\u001b[0;34m(\u001b[0m\u001b[0mtrain_data\u001b[0m\u001b[0;34m,\u001b[0m \u001b[0mval_data\u001b[0m\u001b[0;34m)\u001b[0m\u001b[0;34m\u001b[0m\u001b[0;34m\u001b[0m\u001b[0m\n\u001b[1;32m      5\u001b[0m \u001b[0mtest_unique_templates\u001b[0m\u001b[0;34m(\u001b[0m\u001b[0mtrain_data\u001b[0m\u001b[0;34m,\u001b[0m \u001b[0mval_data\u001b[0m\u001b[0;34m)\u001b[0m\u001b[0;34m\u001b[0m\u001b[0;34m\u001b[0m\u001b[0m\n",
      "\u001b[0;32m/var/folders/k7/kvt_fn2n5kj_cccj1v8w85fc0000gn/T/ipykernel_53829/1155139830.py\u001b[0m in \u001b[0;36mtest_no_duplicate_entity\u001b[0;34m(train, val)\u001b[0m\n\u001b[1;32m      3\u001b[0m     \u001b[0mval_entities\u001b[0m \u001b[0;34m=\u001b[0m \u001b[0mentity_from_span\u001b[0m\u001b[0;34m(\u001b[0m\u001b[0mval\u001b[0m\u001b[0;34m,\u001b[0m \u001b[0;34m\"entity_value\"\u001b[0m\u001b[0;34m)\u001b[0m\u001b[0;34m\u001b[0m\u001b[0;34m\u001b[0m\u001b[0m\n\u001b[1;32m      4\u001b[0m     \u001b[0mintersection\u001b[0m \u001b[0;34m=\u001b[0m \u001b[0mset\u001b[0m\u001b[0;34m(\u001b[0m\u001b[0mtrain_entities\u001b[0m\u001b[0;34m)\u001b[0m \u001b[0;34m&\u001b[0m \u001b[0mset\u001b[0m\u001b[0;34m(\u001b[0m\u001b[0mval_entities\u001b[0m\u001b[0;34m)\u001b[0m\u001b[0;34m\u001b[0m\u001b[0;34m\u001b[0m\u001b[0m\n\u001b[0;32m----> 5\u001b[0;31m     \u001b[0;32massert\u001b[0m \u001b[0mlen\u001b[0m\u001b[0;34m(\u001b[0m\u001b[0mintersection\u001b[0m\u001b[0;34m)\u001b[0m \u001b[0;34m==\u001b[0m \u001b[0;36m0\u001b[0m\u001b[0;34m,\u001b[0m \u001b[0mprint\u001b[0m\u001b[0;34m(\u001b[0m\u001b[0mintersection\u001b[0m\u001b[0;34m)\u001b[0m\u001b[0;34m\u001b[0m\u001b[0;34m\u001b[0m\u001b[0m\n\u001b[0m",
      "\u001b[0;31mAssertionError\u001b[0m: None"
     ]
    }
   ],
   "source": [
    "# test_unique_entity_count(train_data)\n",
    "# test_unique_entity_count(val_data)\n",
    "test_no_duplicate_entity(train_data, val_data)\n",
    "test_missing_classes(train_data, val_data)\n",
    "test_unique_templates(train_data, val_data)"
   ]
  },
  {
   "cell_type": "code",
   "execution_count": 491,
   "metadata": {},
   "outputs": [],
   "source": [
    "val_data = pd.concat([val_data, train_data[train_data.template_id.isin([50])]], ignore_index=True)"
   ]
  },
  {
   "cell_type": "code",
   "execution_count": 492,
   "metadata": {},
   "outputs": [],
   "source": [
    "train_data = train_data[~train_data.template_id.isin([50])]"
   ]
  },
  {
   "cell_type": "code",
   "execution_count": 502,
   "metadata": {},
   "outputs": [
    {
     "data": {
      "text/html": [
       "<div>\n",
       "<style scoped>\n",
       "    .dataframe tbody tr th:only-of-type {\n",
       "        vertical-align: middle;\n",
       "    }\n",
       "\n",
       "    .dataframe tbody tr th {\n",
       "        vertical-align: top;\n",
       "    }\n",
       "\n",
       "    .dataframe thead th {\n",
       "        text-align: right;\n",
       "    }\n",
       "</style>\n",
       "<table border=\"1\" class=\"dataframe\">\n",
       "  <thead>\n",
       "    <tr style=\"text-align: right;\">\n",
       "      <th></th>\n",
       "      <th>full_text</th>\n",
       "      <th>masked</th>\n",
       "      <th>spans</th>\n",
       "      <th>template_id</th>\n",
       "      <th>metadata</th>\n",
       "    </tr>\n",
       "  </thead>\n",
       "  <tbody>\n",
       "    <tr>\n",
       "      <th>0</th>\n",
       "      <td>who's coming to spain with me?</td>\n",
       "      <td>Who's coming to {{GPE}} with me?</td>\n",
       "      <td>[{'entity_type': 'GPE', 'entity_value': 'spain...</td>\n",
       "      <td>16</td>\n",
       "      <td>NaN</td>\n",
       "    </tr>\n",
       "    <tr>\n",
       "      <th>1</th>\n",
       "      <td>unlike the eriksen novel, it's not about necro...</td>\n",
       "      <td>Unlike the {{PERSON}} novel, it's not about ne...</td>\n",
       "      <td>[{'entity_type': 'PERSON', 'entity_value': 'er...</td>\n",
       "      <td>82</td>\n",
       "      <td>NaN</td>\n",
       "    </tr>\n",
       "    <tr>\n",
       "      <th>2</th>\n",
       "      <td>have you been to a romina m ruelas concert bef...</td>\n",
       "      <td>Have you been to a {{PERSON}} concert before?</td>\n",
       "      <td>[{'entity_type': 'PERSON', 'entity_value': 'ro...</td>\n",
       "      <td>78</td>\n",
       "      <td>NaN</td>\n",
       "    </tr>\n",
       "    <tr>\n",
       "      <th>3</th>\n",
       "      <td>How can we reach you? You can call 435 19 927</td>\n",
       "      <td>How can we reach you? You can call {{PHONE_NUM...</td>\n",
       "      <td>[{'entity_type': 'PHONE_NUMBER', 'entity_value...</td>\n",
       "      <td>59</td>\n",
       "      <td>NaN</td>\n",
       "    </tr>\n",
       "    <tr>\n",
       "      <th>4</th>\n",
       "      <td>How can we reach you? You can call 25 470375</td>\n",
       "      <td>How can we reach you? You can call {{PHONE_NUM...</td>\n",
       "      <td>[{'entity_type': 'PHONE_NUMBER', 'entity_value...</td>\n",
       "      <td>59</td>\n",
       "      <td>NaN</td>\n",
       "    </tr>\n",
       "    <tr>\n",
       "      <th>...</th>\n",
       "      <td>...</td>\n",
       "      <td>...</td>\n",
       "      <td>...</td>\n",
       "      <td>...</td>\n",
       "      <td>...</td>\n",
       "    </tr>\n",
       "    <tr>\n",
       "      <th>97</th>\n",
       "      <td>unlike the smidt novel, it's not about necroph...</td>\n",
       "      <td>Unlike the {{PERSON}} novel, it's not about ne...</td>\n",
       "      <td>[{'entity_type': 'PERSON', 'entity_value': 'sm...</td>\n",
       "      <td>82</td>\n",
       "      <td>NaN</td>\n",
       "    </tr>\n",
       "    <tr>\n",
       "      <th>98</th>\n",
       "      <td>please tell me your date of birth. it's 6/28/1939</td>\n",
       "      <td>Please tell me your date of birth. It's {{DATE...</td>\n",
       "      <td>[{'entity_type': 'DATE_TIME', 'entity_value': ...</td>\n",
       "      <td>50</td>\n",
       "      <td>NaN</td>\n",
       "    </tr>\n",
       "    <tr>\n",
       "      <th>99</th>\n",
       "      <td>Please tell me your date of birth. It's 12/15/...</td>\n",
       "      <td>Please tell me your date of birth. It's {{DATE...</td>\n",
       "      <td>[{'entity_type': 'DATE_TIME', 'entity_value': ...</td>\n",
       "      <td>50</td>\n",
       "      <td>NaN</td>\n",
       "    </tr>\n",
       "    <tr>\n",
       "      <th>100</th>\n",
       "      <td>Please tell me your date of birth. It's 2/27/1949</td>\n",
       "      <td>Please tell me your date of birth. It's {{DATE...</td>\n",
       "      <td>[{'entity_type': 'DATE_TIME', 'entity_value': ...</td>\n",
       "      <td>50</td>\n",
       "      <td>NaN</td>\n",
       "    </tr>\n",
       "    <tr>\n",
       "      <th>101</th>\n",
       "      <td>Please tell me your date of birth. It's 5/31/1967</td>\n",
       "      <td>Please tell me your date of birth. It's {{DATE...</td>\n",
       "      <td>[{'entity_type': 'DATE_TIME', 'entity_value': ...</td>\n",
       "      <td>50</td>\n",
       "      <td>NaN</td>\n",
       "    </tr>\n",
       "  </tbody>\n",
       "</table>\n",
       "<p>102 rows × 5 columns</p>\n",
       "</div>"
      ],
      "text/plain": [
       "                                             full_text  \\\n",
       "0                       who's coming to spain with me?   \n",
       "1    unlike the eriksen novel, it's not about necro...   \n",
       "2    have you been to a romina m ruelas concert bef...   \n",
       "3        How can we reach you? You can call 435 19 927   \n",
       "4         How can we reach you? You can call 25 470375   \n",
       "..                                                 ...   \n",
       "97   unlike the smidt novel, it's not about necroph...   \n",
       "98   please tell me your date of birth. it's 6/28/1939   \n",
       "99   Please tell me your date of birth. It's 12/15/...   \n",
       "100  Please tell me your date of birth. It's 2/27/1949   \n",
       "101  Please tell me your date of birth. It's 5/31/1967   \n",
       "\n",
       "                                                masked  \\\n",
       "0                     Who's coming to {{GPE}} with me?   \n",
       "1    Unlike the {{PERSON}} novel, it's not about ne...   \n",
       "2        Have you been to a {{PERSON}} concert before?   \n",
       "3    How can we reach you? You can call {{PHONE_NUM...   \n",
       "4    How can we reach you? You can call {{PHONE_NUM...   \n",
       "..                                                 ...   \n",
       "97   Unlike the {{PERSON}} novel, it's not about ne...   \n",
       "98   Please tell me your date of birth. It's {{DATE...   \n",
       "99   Please tell me your date of birth. It's {{DATE...   \n",
       "100  Please tell me your date of birth. It's {{DATE...   \n",
       "101  Please tell me your date of birth. It's {{DATE...   \n",
       "\n",
       "                                                 spans  template_id  metadata  \n",
       "0    [{'entity_type': 'GPE', 'entity_value': 'spain...           16       NaN  \n",
       "1    [{'entity_type': 'PERSON', 'entity_value': 'er...           82       NaN  \n",
       "2    [{'entity_type': 'PERSON', 'entity_value': 'ro...           78       NaN  \n",
       "3    [{'entity_type': 'PHONE_NUMBER', 'entity_value...           59       NaN  \n",
       "4    [{'entity_type': 'PHONE_NUMBER', 'entity_value...           59       NaN  \n",
       "..                                                 ...          ...       ...  \n",
       "97   [{'entity_type': 'PERSON', 'entity_value': 'sm...           82       NaN  \n",
       "98   [{'entity_type': 'DATE_TIME', 'entity_value': ...           50       NaN  \n",
       "99   [{'entity_type': 'DATE_TIME', 'entity_value': ...           50       NaN  \n",
       "100  [{'entity_type': 'DATE_TIME', 'entity_value': ...           50       NaN  \n",
       "101  [{'entity_type': 'DATE_TIME', 'entity_value': ...           50       NaN  \n",
       "\n",
       "[102 rows x 5 columns]"
      ]
     },
     "execution_count": 502,
     "metadata": {},
     "output_type": "execute_result"
    }
   ],
   "source": [
    "val_data"
   ]
  },
  {
   "cell_type": "code",
   "execution_count": 503,
   "metadata": {},
   "outputs": [
    {
     "data": {
      "text/html": [
       "<div>\n",
       "<style scoped>\n",
       "    .dataframe tbody tr th:only-of-type {\n",
       "        vertical-align: middle;\n",
       "    }\n",
       "\n",
       "    .dataframe tbody tr th {\n",
       "        vertical-align: top;\n",
       "    }\n",
       "\n",
       "    .dataframe thead th {\n",
       "        text-align: right;\n",
       "    }\n",
       "</style>\n",
       "<table border=\"1\" class=\"dataframe\">\n",
       "  <thead>\n",
       "    <tr style=\"text-align: right;\">\n",
       "      <th></th>\n",
       "      <th>full_text</th>\n",
       "      <th>masked</th>\n",
       "      <th>spans</th>\n",
       "      <th>template_id</th>\n",
       "      <th>metadata</th>\n",
       "    </tr>\n",
       "  </thead>\n",
       "  <tbody>\n",
       "    <tr>\n",
       "      <th>0</th>\n",
       "      <td>what are my options?</td>\n",
       "      <td>What are my options?</td>\n",
       "      <td>[]</td>\n",
       "      <td>30</td>\n",
       "      <td>NaN</td>\n",
       "    </tr>\n",
       "    <tr>\n",
       "      <th>1</th>\n",
       "      <td>hi manlio, i'm contacting you about a problem ...</td>\n",
       "      <td>Hi {{PERSON}}, I'm contacting you about a prob...</td>\n",
       "      <td>[{'entity_type': 'PERSON', 'entity_value': 'ma...</td>\n",
       "      <td>64</td>\n",
       "      <td>NaN</td>\n",
       "    </tr>\n",
       "    <tr>\n",
       "      <th>2</th>\n",
       "      <td>in case of my child's account, we need to add ...</td>\n",
       "      <td>In case of my child's account, we need to add ...</td>\n",
       "      <td>[{'entity_type': 'PERSON', 'entity_value': 'be...</td>\n",
       "      <td>4</td>\n",
       "      <td>NaN</td>\n",
       "    </tr>\n",
       "    <tr>\n",
       "      <th>3</th>\n",
       "      <td>I want to increase limit on my card # 65494197...</td>\n",
       "      <td>I want to increase limit on my card # {{CREDIT...</td>\n",
       "      <td>[{'entity_type': 'CREDIT_CARD', 'entity_value'...</td>\n",
       "      <td>0</td>\n",
       "      <td>NaN</td>\n",
       "    </tr>\n",
       "    <tr>\n",
       "      <th>4</th>\n",
       "      <td>Maybe it's under Aston Lind</td>\n",
       "      <td>Maybe it's under {{PERSON}}</td>\n",
       "      <td>[{'entity_type': 'PERSON', 'entity_value': 'As...</td>\n",
       "      <td>67</td>\n",
       "      <td>NaN</td>\n",
       "    </tr>\n",
       "    <tr>\n",
       "      <th>...</th>\n",
       "      <td>...</td>\n",
       "      <td>...</td>\n",
       "      <td>...</td>\n",
       "      <td>...</td>\n",
       "      <td>...</td>\n",
       "    </tr>\n",
       "    <tr>\n",
       "      <th>193</th>\n",
       "      <td>It's like that since 11/28/1938</td>\n",
       "      <td>It's like that since {{DATE_TIME}}</td>\n",
       "      <td>[{'entity_type': 'DATE_TIME', 'entity_value': ...</td>\n",
       "      <td>68</td>\n",
       "      <td>NaN</td>\n",
       "    </tr>\n",
       "    <tr>\n",
       "      <th>194</th>\n",
       "      <td>hello, this is mr. mr. tyler sato. who are you?</td>\n",
       "      <td>Hello, this is {{TITLE}} {{PERSON}}. Who are you?</td>\n",
       "      <td>[{'entity_type': 'PERSON', 'entity_value': 'mr...</td>\n",
       "      <td>41</td>\n",
       "      <td>NaN</td>\n",
       "    </tr>\n",
       "    <tr>\n",
       "      <th>195</th>\n",
       "      <td>for my take on ms. ruud, see guilty pleasures:...</td>\n",
       "      <td>For my take on {{TITLE}} {{PERSON}}, see Guilt...</td>\n",
       "      <td>[{'entity_type': 'PERSON', 'entity_value': 'ru...</td>\n",
       "      <td>81</td>\n",
       "      <td>NaN</td>\n",
       "    </tr>\n",
       "    <tr>\n",
       "      <th>197</th>\n",
       "      <td>my name appears incorrectly on credit card sta...</td>\n",
       "      <td>My name appears incorrectly on credit card sta...</td>\n",
       "      <td>[{'entity_type': 'PERSON', 'entity_value': 'ja...</td>\n",
       "      <td>20</td>\n",
       "      <td>NaN</td>\n",
       "    </tr>\n",
       "    <tr>\n",
       "      <th>198</th>\n",
       "      <td>i used to work for shabby chic as announcer, b...</td>\n",
       "      <td>I used to work for {{ORGANIZATION}} as {{TITLE...</td>\n",
       "      <td>[{'entity_type': 'TITLE', 'entity_value': 'ann...</td>\n",
       "      <td>86</td>\n",
       "      <td>NaN</td>\n",
       "    </tr>\n",
       "  </tbody>\n",
       "</table>\n",
       "<p>195 rows × 5 columns</p>\n",
       "</div>"
      ],
      "text/plain": [
       "                                             full_text  \\\n",
       "0                                 what are my options?   \n",
       "1    hi manlio, i'm contacting you about a problem ...   \n",
       "2    in case of my child's account, we need to add ...   \n",
       "3    I want to increase limit on my card # 65494197...   \n",
       "4                          Maybe it's under Aston Lind   \n",
       "..                                                 ...   \n",
       "193                    It's like that since 11/28/1938   \n",
       "194    hello, this is mr. mr. tyler sato. who are you?   \n",
       "195  for my take on ms. ruud, see guilty pleasures:...   \n",
       "197  my name appears incorrectly on credit card sta...   \n",
       "198  i used to work for shabby chic as announcer, b...   \n",
       "\n",
       "                                                masked  \\\n",
       "0                                 What are my options?   \n",
       "1    Hi {{PERSON}}, I'm contacting you about a prob...   \n",
       "2    In case of my child's account, we need to add ...   \n",
       "3    I want to increase limit on my card # {{CREDIT...   \n",
       "4                          Maybe it's under {{PERSON}}   \n",
       "..                                                 ...   \n",
       "193                 It's like that since {{DATE_TIME}}   \n",
       "194  Hello, this is {{TITLE}} {{PERSON}}. Who are you?   \n",
       "195  For my take on {{TITLE}} {{PERSON}}, see Guilt...   \n",
       "197  My name appears incorrectly on credit card sta...   \n",
       "198  I used to work for {{ORGANIZATION}} as {{TITLE...   \n",
       "\n",
       "                                                 spans  template_id  metadata  \n",
       "0                                                   []           30       NaN  \n",
       "1    [{'entity_type': 'PERSON', 'entity_value': 'ma...           64       NaN  \n",
       "2    [{'entity_type': 'PERSON', 'entity_value': 'be...            4       NaN  \n",
       "3    [{'entity_type': 'CREDIT_CARD', 'entity_value'...            0       NaN  \n",
       "4    [{'entity_type': 'PERSON', 'entity_value': 'As...           67       NaN  \n",
       "..                                                 ...          ...       ...  \n",
       "193  [{'entity_type': 'DATE_TIME', 'entity_value': ...           68       NaN  \n",
       "194  [{'entity_type': 'PERSON', 'entity_value': 'mr...           41       NaN  \n",
       "195  [{'entity_type': 'PERSON', 'entity_value': 'ru...           81       NaN  \n",
       "197  [{'entity_type': 'PERSON', 'entity_value': 'ja...           20       NaN  \n",
       "198  [{'entity_type': 'TITLE', 'entity_value': 'ann...           86       NaN  \n",
       "\n",
       "[195 rows x 5 columns]"
      ]
     },
     "execution_count": 503,
     "metadata": {},
     "output_type": "execute_result"
    }
   ],
   "source": [
    "train_data"
   ]
  },
  {
   "cell_type": "code",
   "execution_count": 494,
   "metadata": {},
   "outputs": [],
   "source": [
    "val_data.to_json('./data/val_300_final.json', orient='records')"
   ]
  },
  {
   "cell_type": "code",
   "execution_count": 495,
   "metadata": {},
   "outputs": [],
   "source": [
    "train_data.to_json('./data/train__300__final.json', orient='records')"
   ]
  },
  {
   "cell_type": "code",
   "execution_count": 496,
   "metadata": {},
   "outputs": [
    {
     "name": "stderr",
     "output_type": "stream",
     "text": [
      "tokenizing input: 100%|██████████| 195/195 [00:00<00:00, 232.86it/s]\n"
     ]
    }
   ],
   "source": [
    "train_input_samples = InputSample.read_dataset_json('./data/train__300__final.json')"
   ]
  },
  {
   "cell_type": "code",
   "execution_count": 498,
   "metadata": {},
   "outputs": [
    {
     "name": "stderr",
     "output_type": "stream",
     "text": [
      "tokenizing input: 100%|██████████| 102/102 [00:00<00:00, 220.30it/s]\n"
     ]
    }
   ],
   "source": [
    "val_input_samples = InputSample.read_dataset_json('./data/val_300_final.json')"
   ]
  },
  {
   "cell_type": "code",
   "execution_count": 504,
   "metadata": {},
   "outputs": [],
   "source": [
    "def count_entity_types(data):\n",
    "    count_per_entity_new = Counter()\n",
    "    for record in data:\n",
    "        for span in record.spans:\n",
    "            count_per_entity_new[span.type] += 1\n",
    "\n",
    "    print(count_per_entity_new.most_common())"
   ]
  },
  {
   "cell_type": "code",
   "execution_count": 505,
   "metadata": {},
   "outputs": [
    {
     "ename": "AttributeError",
     "evalue": "'Span' object has no attribute 'type'",
     "output_type": "error",
     "traceback": [
      "\u001b[0;31m---------------------------------------------------------------------------\u001b[0m",
      "\u001b[0;31mAttributeError\u001b[0m                            Traceback (most recent call last)",
      "Cell \u001b[0;32mIn[505], line 1\u001b[0m\n\u001b[0;32m----> 1\u001b[0m count_entity_types(train_input_samples)\n",
      "Cell \u001b[0;32mIn[504], line 5\u001b[0m, in \u001b[0;36mcount_entity_types\u001b[0;34m(data)\u001b[0m\n\u001b[1;32m      3\u001b[0m \u001b[39mfor\u001b[39;00m record \u001b[39min\u001b[39;00m data:\n\u001b[1;32m      4\u001b[0m     \u001b[39mfor\u001b[39;00m span \u001b[39min\u001b[39;00m record\u001b[39m.\u001b[39mspans:\n\u001b[0;32m----> 5\u001b[0m         count_per_entity_new[span\u001b[39m.\u001b[39;49mtype] \u001b[39m+\u001b[39m\u001b[39m=\u001b[39m \u001b[39m1\u001b[39m\n\u001b[1;32m      7\u001b[0m \u001b[39mprint\u001b[39m(count_per_entity_new\u001b[39m.\u001b[39mmost_common())\n",
      "\u001b[0;31mAttributeError\u001b[0m: 'Span' object has no attribute 'type'"
     ]
    }
   ],
   "source": [
    "count_entity_types(train_input_samples)"
   ]
  },
  {
   "cell_type": "code",
   "execution_count": 501,
   "metadata": {},
   "outputs": [
    {
     "name": "stdout",
     "output_type": "stream",
     "text": [
      "[('PERSON', 136), ('STREET_ADDRESS', 66), ('CREDIT_CARD', 39), ('ORGANIZATION', 29), ('GPE', 27), ('TITLE', 19), ('EMAIL_ADDRESS', 16), ('PHONE_NUMBER', 15), ('DATE_TIME', 11), ('NRP', 7), ('IBAN_CODE', 3)]\n"
     ]
    }
   ],
   "source": [
    "count_entity_types(val_input_samples)"
   ]
  },
  {
   "cell_type": "code",
   "execution_count": 519,
   "metadata": {},
   "outputs": [
    {
     "data": {
      "text/plain": [
       "Type: GPE, value: spain, start: 16, end: 21"
      ]
     },
     "execution_count": 519,
     "metadata": {},
     "output_type": "execute_result"
    }
   ],
   "source": [
    "val_input_samples[0].spans[0]"
   ]
  },
  {
   "cell_type": "code",
   "execution_count": null,
   "metadata": {},
   "outputs": [],
   "source": [
    "{'MISC': {'precision': 0.0, 'recall': 0.0, 'f1': 0.0, 'number': 1}, 'PER': {'precision': 1.0, 'recall': 1.0, 'f1': 1.0, 'number': 1}, 'overall_precision': 0.5, 'overall_recall': 0.5, 'overall_f1': 0.5, 'overall_accuracy': 0.8}\n"
   ]
  }
 ],
 "metadata": {
  "kernelspec": {
   "display_name": "Python 3.9.0 ('deid')",
   "language": "python",
   "name": "python3"
  },
  "language_info": {
   "codemirror_mode": {
    "name": "ipython",
    "version": 3
   },
   "file_extension": ".py",
   "mimetype": "text/x-python",
   "name": "python",
   "nbconvert_exporter": "python",
   "pygments_lexer": "ipython3",
   "version": "3.9.0"
  },
  "orig_nbformat": 4,
  "vscode": {
   "interpreter": {
    "hash": "88a6fc1fbf00c828c907ecc46d7d443663b72338e84951b7781d8b5df103fd14"
   }
  }
 },
 "nbformat": 4,
 "nbformat_minor": 2
}
